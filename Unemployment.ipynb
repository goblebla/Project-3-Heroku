{
 "cells": [
  {
   "cell_type": "code",
   "execution_count": 27,
   "metadata": {},
   "outputs": [],
   "source": [
    "%matplotlib inline\n",
    "from matplotlib import style\n",
    "style.use('fivethirtyeight')\n",
    "import matplotlib.pyplot as plt\n",
    "import sqlite3"
   ]
  },
  {
   "cell_type": "code",
   "execution_count": 28,
   "metadata": {},
   "outputs": [],
   "source": [
    "import numpy as np\n",
    "import pandas as pd\n",
    "from sqlalchemy.orm import sessionmaker"
   ]
  },
  {
   "cell_type": "code",
   "execution_count": 29,
   "metadata": {},
   "outputs": [],
   "source": [
    "import datetime as dt"
   ]
  },
  {
   "cell_type": "code",
   "execution_count": 30,
   "metadata": {},
   "outputs": [],
   "source": [
    "# Python SQL toolkit and Object Relational Mapper\n",
    "import sqlalchemy\n",
    "from sqlalchemy.ext.automap import automap_base\n",
    "from sqlalchemy.orm import Session\n",
    "from sqlalchemy import create_engine, inspect, func"
   ]
  },
  {
   "cell_type": "code",
   "execution_count": 31,
   "metadata": {},
   "outputs": [],
   "source": [
    "engine = create_engine(\"sqlite:///Unemployment.db\")\n",
    "conn = engine.connect()\n",
    "Session = sessionmaker(bind=engine)\n",
    "session = Session()"
   ]
  },
  {
   "cell_type": "code",
   "execution_count": 32,
   "metadata": {},
   "outputs": [],
   "source": [
    "# reflect an existing database into a new model\n",
    "Base= automap_base()\n",
    "# reflect the tables\n",
    "Base.prepare(engine, reflect=True)"
   ]
  },
  {
   "cell_type": "code",
   "execution_count": 33,
   "metadata": {},
   "outputs": [
    {
     "data": {
      "text/plain": [
       "['COVID_Unemployment', 'Unemployment', 'Unemployment_New']"
      ]
     },
     "execution_count": 33,
     "metadata": {},
     "output_type": "execute_result"
    }
   ],
   "source": [
    "inspector = inspect(engine)\n",
    "inspector.get_table_names()"
   ]
  },
  {
   "cell_type": "code",
   "execution_count": null,
   "metadata": {},
   "outputs": [],
   "source": []
  },
  {
   "cell_type": "code",
   "execution_count": 34,
   "metadata": {},
   "outputs": [],
   "source": [
    "# results = session.query(Unemployment_New)"
   ]
  },
  {
   "cell_type": "code",
   "execution_count": 35,
   "metadata": {},
   "outputs": [
    {
     "data": {
      "text/plain": [
       "['COVID_Unemployment', 'Unemployment_New']"
      ]
     },
     "execution_count": 35,
     "metadata": {},
     "output_type": "execute_result"
    }
   ],
   "source": [
    "Base.classes.keys()"
   ]
  },
  {
   "cell_type": "code",
   "execution_count": 44,
   "metadata": {},
   "outputs": [],
   "source": [
    "state_unemployment = Base.classes.COVID_Unemployment"
   ]
  },
  {
   "cell_type": "code",
   "execution_count": 45,
   "metadata": {},
   "outputs": [
    {
     "ename": "TypeError",
     "evalue": "__call__() takes 1 positional argument but 2 were given",
     "output_type": "error",
     "traceback": [
      "\u001b[1;31m---------------------------------------------------------------------------\u001b[0m",
      "\u001b[1;31mTypeError\u001b[0m                                 Traceback (most recent call last)",
      "\u001b[1;32m<ipython-input-45-55fba88a54a0>\u001b[0m in \u001b[0;36m<module>\u001b[1;34m\u001b[0m\n\u001b[1;32m----> 1\u001b[1;33m \u001b[0msession\u001b[0m \u001b[1;33m=\u001b[0m \u001b[0mSession\u001b[0m\u001b[1;33m(\u001b[0m\u001b[0mengine\u001b[0m\u001b[1;33m)\u001b[0m\u001b[1;33m\u001b[0m\u001b[1;33m\u001b[0m\u001b[0m\n\u001b[0m",
      "\u001b[1;31mTypeError\u001b[0m: __call__() takes 1 positional argument but 2 were given"
     ]
    }
   ],
   "source": [
    "session = Session(engine)"
   ]
  },
  {
   "cell_type": "code",
   "execution_count": 39,
   "metadata": {},
   "outputs": [
    {
     "data": {
      "text/plain": [
       "{'_sa_instance_state': <sqlalchemy.orm.state.InstanceState at 0x21fc0fcc848>,\n",
       " 'State': 'Alabama',\n",
       " 'new_deaths_per_100_000': 0,\n",
       " 'cumulative_deaths': 0,\n",
       " 'new_cases_per_100_000': 0,\n",
       " 'id': 1,\n",
       " 'cumulative_deaths_per_100_000': 0.0,\n",
       " 'Filedweekended': '2/1/20',\n",
       " 'new_cases': 0,\n",
       " 'InitialClaims': '2,170',\n",
       " 'cumulative_cases_per_100_000': 0.0,\n",
       " 'new_cases_7_day_rolling_avg': 0,\n",
       " 'ReflectingWeekEnded': '1/25/20',\n",
       " 'cumulative_cases': 0,\n",
       " 'new_deaths': 0,\n",
       " 'ContinuedClaims': '17,284',\n",
       " 'CoveredEmployment': '1,923,741',\n",
       " 'total_population': 4887871,\n",
       " 'new_deaths_7_day_rolling_avg': 0,\n",
       " 'Date': '2/1/20',\n",
       " 'InsuredUnemploymentRate': 0.9}"
      ]
     },
     "execution_count": 39,
     "metadata": {},
     "output_type": "execute_result"
    }
   ],
   "source": [
    "first_row = session.query(state_unemployment).all()\n",
    "first_row[0].__dict__"
   ]
  },
  {
   "cell_type": "code",
   "execution_count": 46,
   "metadata": {},
   "outputs": [
    {
     "name": "stdout",
     "output_type": "stream",
     "text": [
      "id INTEGER\n",
      "State TEXT\n",
      "Date TEXT\n",
      "total_population INTEGER\n",
      "cumulative_cases INTEGER\n",
      "cumulative_cases_per_100_000 REAL\n",
      "cumulative_deaths INTEGER\n",
      "cumulative_deaths_per_100_000 REAL\n",
      "new_cases INTEGER\n",
      "new_cases_7_day_rolling_avg INTEGER\n",
      "new_deaths INTEGER\n",
      "new_deaths_7_day_rolling_avg INTEGER\n",
      "new_deaths_per_100_000 INTEGER\n",
      "new_cases_per_100_000 INTEGER\n",
      "Filedweekended TEXT\n",
      "InitialClaims TEXT\n",
      "ReflectingWeekEnded TEXT\n",
      "ContinuedClaims TEXT\n",
      "CoveredEmployment TEXT\n",
      "InsuredUnemploymentRate REAL\n"
     ]
    }
   ],
   "source": [
    "columns = inspector.get_columns('COVID_Unemployment')\n",
    "for c in columns:\n",
    "    print(c['name'], c[\"type\"])"
   ]
  },
  {
   "cell_type": "code",
   "execution_count": 18,
   "metadata": {},
   "outputs": [
    {
     "data": {
      "text/plain": [
       "[(1, 'Alabama', '2020-01-04', '4,578', '12/28/2019', '18,523', '1,923,741', 0.96),\n",
       " (2, 'Alabama', '2020-01-11', '3,629', '1/4/2020', '21,143', '1,923,741', 1.1),\n",
       " (3, 'Alabama', '2020-01-18', '2,483', '1/11/2020', '17,402', '1,923,741', 0.9),\n",
       " (4, 'Alabama', '2020-01-25', '2,129', '1/18/2020', '18,390', '1,923,741', 0.96),\n",
       " (5, 'Alabama', '2020-02-01', '2,170', '1/25/2020', '17,284', '1,923,741', 0.9)]"
      ]
     },
     "execution_count": 18,
     "metadata": {},
     "output_type": "execute_result"
    }
   ],
   "source": [
    " conn.execute('SELECT * FROM Unemployment_New LIMIT 5').fetchall()"
   ]
  },
  {
   "cell_type": "code",
   "execution_count": 43,
   "metadata": {},
   "outputs": [
    {
     "data": {
      "text/html": [
       "<div>\n",
       "<style scoped>\n",
       "    .dataframe tbody tr th:only-of-type {\n",
       "        vertical-align: middle;\n",
       "    }\n",
       "\n",
       "    .dataframe tbody tr th {\n",
       "        vertical-align: top;\n",
       "    }\n",
       "\n",
       "    .dataframe thead th {\n",
       "        text-align: right;\n",
       "    }\n",
       "</style>\n",
       "<table border=\"1\" class=\"dataframe\">\n",
       "  <thead>\n",
       "    <tr style=\"text-align: right;\">\n",
       "      <th></th>\n",
       "      <th>id</th>\n",
       "      <th>State</th>\n",
       "      <th>Date</th>\n",
       "      <th>total_population</th>\n",
       "      <th>cumulative_cases</th>\n",
       "      <th>cumulative_cases_per_100_000</th>\n",
       "      <th>cumulative_deaths</th>\n",
       "      <th>cumulative_deaths_per_100_000</th>\n",
       "      <th>new_cases</th>\n",
       "      <th>new_cases_7_day_rolling_avg</th>\n",
       "      <th>new_deaths</th>\n",
       "      <th>new_deaths_7_day_rolling_avg</th>\n",
       "      <th>new_deaths_per_100_000</th>\n",
       "      <th>new_cases_per_100_000</th>\n",
       "      <th>Filedweekended</th>\n",
       "      <th>InitialClaims</th>\n",
       "      <th>ReflectingWeekEnded</th>\n",
       "      <th>ContinuedClaims</th>\n",
       "      <th>CoveredEmployment</th>\n",
       "      <th>InsuredUnemploymentRate</th>\n",
       "    </tr>\n",
       "  </thead>\n",
       "  <tbody>\n",
       "    <tr>\n",
       "      <th>0</th>\n",
       "      <td>1</td>\n",
       "      <td>Alabama</td>\n",
       "      <td>2/1/20</td>\n",
       "      <td>4887871</td>\n",
       "      <td>0</td>\n",
       "      <td>0.0</td>\n",
       "      <td>0</td>\n",
       "      <td>0.0</td>\n",
       "      <td>0</td>\n",
       "      <td>0.0</td>\n",
       "      <td>0</td>\n",
       "      <td>0.0</td>\n",
       "      <td>0.0</td>\n",
       "      <td>0.0</td>\n",
       "      <td>2/1/20</td>\n",
       "      <td>2,170</td>\n",
       "      <td>1/25/20</td>\n",
       "      <td>17,284</td>\n",
       "      <td>1,923,741</td>\n",
       "      <td>0.90</td>\n",
       "    </tr>\n",
       "    <tr>\n",
       "      <th>1</th>\n",
       "      <td>2</td>\n",
       "      <td>Alabama</td>\n",
       "      <td>2/8/20</td>\n",
       "      <td>4887871</td>\n",
       "      <td>0</td>\n",
       "      <td>0.0</td>\n",
       "      <td>0</td>\n",
       "      <td>0.0</td>\n",
       "      <td>0</td>\n",
       "      <td>0.0</td>\n",
       "      <td>0</td>\n",
       "      <td>0.0</td>\n",
       "      <td>0.0</td>\n",
       "      <td>0.0</td>\n",
       "      <td>2/8/20</td>\n",
       "      <td>2,176</td>\n",
       "      <td>2/1/20</td>\n",
       "      <td>16,745</td>\n",
       "      <td>1,923,741</td>\n",
       "      <td>0.87</td>\n",
       "    </tr>\n",
       "    <tr>\n",
       "      <th>2</th>\n",
       "      <td>3</td>\n",
       "      <td>Alabama</td>\n",
       "      <td>2/15/20</td>\n",
       "      <td>4887871</td>\n",
       "      <td>0</td>\n",
       "      <td>0.0</td>\n",
       "      <td>0</td>\n",
       "      <td>0.0</td>\n",
       "      <td>0</td>\n",
       "      <td>0.0</td>\n",
       "      <td>0</td>\n",
       "      <td>0.0</td>\n",
       "      <td>0.0</td>\n",
       "      <td>0.0</td>\n",
       "      <td>2/15/20</td>\n",
       "      <td>1,981</td>\n",
       "      <td>2/8/20</td>\n",
       "      <td>16,571</td>\n",
       "      <td>1,923,741</td>\n",
       "      <td>0.86</td>\n",
       "    </tr>\n",
       "    <tr>\n",
       "      <th>3</th>\n",
       "      <td>4</td>\n",
       "      <td>Alabama</td>\n",
       "      <td>2/22/20</td>\n",
       "      <td>4887871</td>\n",
       "      <td>0</td>\n",
       "      <td>0.0</td>\n",
       "      <td>0</td>\n",
       "      <td>0.0</td>\n",
       "      <td>0</td>\n",
       "      <td>0.0</td>\n",
       "      <td>0</td>\n",
       "      <td>0.0</td>\n",
       "      <td>0.0</td>\n",
       "      <td>0.0</td>\n",
       "      <td>2/22/20</td>\n",
       "      <td>1,735</td>\n",
       "      <td>2/15/20</td>\n",
       "      <td>16,059</td>\n",
       "      <td>1,923,741</td>\n",
       "      <td>0.83</td>\n",
       "    </tr>\n",
       "    <tr>\n",
       "      <th>4</th>\n",
       "      <td>5</td>\n",
       "      <td>Alabama</td>\n",
       "      <td>2/29/20</td>\n",
       "      <td>4887871</td>\n",
       "      <td>0</td>\n",
       "      <td>0.0</td>\n",
       "      <td>0</td>\n",
       "      <td>0.0</td>\n",
       "      <td>0</td>\n",
       "      <td>0.0</td>\n",
       "      <td>0</td>\n",
       "      <td>0.0</td>\n",
       "      <td>0.0</td>\n",
       "      <td>0.0</td>\n",
       "      <td>2/29/20</td>\n",
       "      <td>1,575</td>\n",
       "      <td>2/22/20</td>\n",
       "      <td>14,721</td>\n",
       "      <td>1,923,741</td>\n",
       "      <td>0.77</td>\n",
       "    </tr>\n",
       "  </tbody>\n",
       "</table>\n",
       "</div>"
      ],
      "text/plain": [
       "   id    State     Date  total_population  cumulative_cases  \\\n",
       "0   1  Alabama   2/1/20           4887871                 0   \n",
       "1   2  Alabama   2/8/20           4887871                 0   \n",
       "2   3  Alabama  2/15/20           4887871                 0   \n",
       "3   4  Alabama  2/22/20           4887871                 0   \n",
       "4   5  Alabama  2/29/20           4887871                 0   \n",
       "\n",
       "   cumulative_cases_per_100_000  cumulative_deaths  \\\n",
       "0                           0.0                  0   \n",
       "1                           0.0                  0   \n",
       "2                           0.0                  0   \n",
       "3                           0.0                  0   \n",
       "4                           0.0                  0   \n",
       "\n",
       "   cumulative_deaths_per_100_000  new_cases  new_cases_7_day_rolling_avg  \\\n",
       "0                            0.0          0                          0.0   \n",
       "1                            0.0          0                          0.0   \n",
       "2                            0.0          0                          0.0   \n",
       "3                            0.0          0                          0.0   \n",
       "4                            0.0          0                          0.0   \n",
       "\n",
       "   new_deaths  new_deaths_7_day_rolling_avg  new_deaths_per_100_000  \\\n",
       "0           0                           0.0                     0.0   \n",
       "1           0                           0.0                     0.0   \n",
       "2           0                           0.0                     0.0   \n",
       "3           0                           0.0                     0.0   \n",
       "4           0                           0.0                     0.0   \n",
       "\n",
       "   new_cases_per_100_000 Filedweekended InitialClaims ReflectingWeekEnded  \\\n",
       "0                    0.0         2/1/20         2,170             1/25/20   \n",
       "1                    0.0         2/8/20         2,176              2/1/20   \n",
       "2                    0.0        2/15/20         1,981              2/8/20   \n",
       "3                    0.0        2/22/20         1,735             2/15/20   \n",
       "4                    0.0        2/29/20         1,575             2/22/20   \n",
       "\n",
       "  ContinuedClaims CoveredEmployment  InsuredUnemploymentRate  \n",
       "0          17,284         1,923,741                     0.90  \n",
       "1          16,745         1,923,741                     0.87  \n",
       "2          16,571         1,923,741                     0.86  \n",
       "3          16,059         1,923,741                     0.83  \n",
       "4          14,721         1,923,741                     0.77  "
      ]
     },
     "execution_count": 43,
     "metadata": {},
     "output_type": "execute_result"
    }
   ],
   "source": [
    "#Looking at the tables\n",
    "data = pd.read_sql(\"SELECT * FROM COVID_Unemployment\", conn)\n",
    "data.head()"
   ]
  },
  {
   "cell_type": "code",
   "execution_count": 47,
   "metadata": {},
   "outputs": [
    {
     "data": {
      "text/html": [
       "<div>\n",
       "<style scoped>\n",
       "    .dataframe tbody tr th:only-of-type {\n",
       "        vertical-align: middle;\n",
       "    }\n",
       "\n",
       "    .dataframe tbody tr th {\n",
       "        vertical-align: top;\n",
       "    }\n",
       "\n",
       "    .dataframe thead th {\n",
       "        text-align: right;\n",
       "    }\n",
       "</style>\n",
       "<table border=\"1\" class=\"dataframe\">\n",
       "  <thead>\n",
       "    <tr style=\"text-align: right;\">\n",
       "      <th></th>\n",
       "      <th>State</th>\n",
       "      <th>Filedweekended</th>\n",
       "      <th>ContinuedClaims</th>\n",
       "    </tr>\n",
       "  </thead>\n",
       "  <tbody>\n",
       "    <tr>\n",
       "      <th>0</th>\n",
       "      <td>Alabama</td>\n",
       "      <td>2/1/20</td>\n",
       "      <td>17,284</td>\n",
       "    </tr>\n",
       "    <tr>\n",
       "      <th>1</th>\n",
       "      <td>Alabama</td>\n",
       "      <td>2/8/20</td>\n",
       "      <td>16,745</td>\n",
       "    </tr>\n",
       "    <tr>\n",
       "      <th>2</th>\n",
       "      <td>Alabama</td>\n",
       "      <td>2/15/20</td>\n",
       "      <td>16,571</td>\n",
       "    </tr>\n",
       "    <tr>\n",
       "      <th>3</th>\n",
       "      <td>Alabama</td>\n",
       "      <td>2/22/20</td>\n",
       "      <td>16,059</td>\n",
       "    </tr>\n",
       "    <tr>\n",
       "      <th>4</th>\n",
       "      <td>Alabama</td>\n",
       "      <td>2/29/20</td>\n",
       "      <td>14,721</td>\n",
       "    </tr>\n",
       "  </tbody>\n",
       "</table>\n",
       "</div>"
      ],
      "text/plain": [
       "     State Filedweekended ContinuedClaims\n",
       "0  Alabama         2/1/20          17,284\n",
       "1  Alabama         2/8/20          16,745\n",
       "2  Alabama        2/15/20          16,571\n",
       "3  Alabama        2/22/20          16,059\n",
       "4  Alabama        2/29/20          14,721"
      ]
     },
     "execution_count": 47,
     "metadata": {},
     "output_type": "execute_result"
    }
   ],
   "source": [
    "#Looking at the tables\n",
    "data = pd.read_sql(\"SELECT State, Filedweekended, ContinuedClaims FROM COVID_Unemployment\", conn)\n",
    "data.head()"
   ]
  },
  {
   "cell_type": "code",
   "execution_count": 15,
   "metadata": {},
   "outputs": [],
   "source": [
    "results = conn.execute(\"SELECT State, date(Filedweekended), ContinuedClaims FROM unemployment_new\")"
   ]
  },
  {
   "cell_type": "code",
   "execution_count": 17,
   "metadata": {},
   "outputs": [
    {
     "ename": "NameError",
     "evalue": "name 'caims_data' is not defined",
     "output_type": "error",
     "traceback": [
      "\u001b[1;31m---------------------------------------------------------------------------\u001b[0m",
      "\u001b[1;31mNameError\u001b[0m                                 Traceback (most recent call last)",
      "\u001b[1;32m<ipython-input-17-a62d5a412a30>\u001b[0m in \u001b[0;36m<module>\u001b[1;34m\u001b[0m\n\u001b[0;32m      3\u001b[0m \u001b[1;32mfor\u001b[0m \u001b[0mresult\u001b[0m \u001b[1;32min\u001b[0m \u001b[0mresults\u001b[0m\u001b[1;33m:\u001b[0m\u001b[1;33m\u001b[0m\u001b[1;33m\u001b[0m\u001b[0m\n\u001b[0;32m      4\u001b[0m     \u001b[0mclaims_dict\u001b[0m \u001b[1;33m=\u001b[0m \u001b[1;33m{\u001b[0m\u001b[1;34m\"State\"\u001b[0m\u001b[1;33m:\u001b[0m \u001b[0mresult\u001b[0m\u001b[1;33m[\u001b[0m\u001b[1;36m0\u001b[0m\u001b[1;33m]\u001b[0m\u001b[1;33m,\u001b[0m \u001b[1;34m\"Filedweekended\"\u001b[0m\u001b[1;33m:\u001b[0m \u001b[0mresult\u001b[0m\u001b[1;33m[\u001b[0m\u001b[1;36m1\u001b[0m\u001b[1;33m]\u001b[0m\u001b[1;33m,\u001b[0m \u001b[1;34m\"ContinuedClaims\"\u001b[0m\u001b[1;33m:\u001b[0m \u001b[0mresult\u001b[0m\u001b[1;33m[\u001b[0m\u001b[1;36m2\u001b[0m\u001b[1;33m]\u001b[0m\u001b[1;33m}\u001b[0m\u001b[1;33m\u001b[0m\u001b[1;33m\u001b[0m\u001b[0m\n\u001b[1;32m----> 5\u001b[1;33m     \u001b[0mcaims_data\u001b[0m\u001b[1;33m.\u001b[0m\u001b[0mappend\u001b[0m\u001b[1;33m(\u001b[0m\u001b[0mclaims_dict\u001b[0m\u001b[1;33m)\u001b[0m\u001b[1;33m\u001b[0m\u001b[1;33m\u001b[0m\u001b[0m\n\u001b[0m\u001b[0;32m      6\u001b[0m     \u001b[0mprint\u001b[0m\u001b[1;33m(\u001b[0m\u001b[0mresult\u001b[0m\u001b[1;33m)\u001b[0m\u001b[1;33m\u001b[0m\u001b[1;33m\u001b[0m\u001b[0m\n\u001b[0;32m      7\u001b[0m \u001b[1;33m\u001b[0m\u001b[0m\n",
      "\u001b[1;31mNameError\u001b[0m: name 'caims_data' is not defined"
     ]
    }
   ],
   "source": [
    "claims_data = []\n",
    "\n",
    "for result in results:\n",
    "    claims_dict = {\"State\": result[0], \"Filedweekended\": result[1], \"ContinuedClaims\": result[2]}\n",
    "    caims_data.append(claims_dict)\n",
    "    print(result)\n",
    "\n",
    "# return jsonify(claims_data)"
   ]
  },
  {
   "cell_type": "code",
   "execution_count": 83,
   "metadata": {},
   "outputs": [
    {
     "ename": "SyntaxError",
     "evalue": "'return' outside function (<ipython-input-83-8cca78d8d9c0>, line 8)",
     "output_type": "error",
     "traceback": [
      "\u001b[1;36m  File \u001b[1;32m\"<ipython-input-83-8cca78d8d9c0>\"\u001b[1;36m, line \u001b[1;32m8\u001b[0m\n\u001b[1;33m    return jsonify(claims_data)\u001b[0m\n\u001b[1;37m                               ^\u001b[0m\n\u001b[1;31mSyntaxError\u001b[0m\u001b[1;31m:\u001b[0m 'return' outside function\n"
     ]
    }
   ],
   "source": [
    "claims_data = []\n",
    "\n",
    "for result in results:\n",
    "    claims_dict = {\"State\": result[0], \"Filedweekended\": result[1], \"ContinuedClaims\": result[2]}\n",
    "    caims_data.append(claims_dict)\n",
    "    print(result)\n",
    "\n",
    "return jsonify(claims_data)"
   ]
  },
  {
   "cell_type": "code",
   "execution_count": null,
   "metadata": {},
   "outputs": [],
   "source": []
  },
  {
   "cell_type": "code",
   "execution_count": null,
   "metadata": {},
   "outputs": [],
   "source": []
  },
  {
   "cell_type": "code",
   "execution_count": null,
   "metadata": {},
   "outputs": [],
   "source": []
  },
  {
   "cell_type": "code",
   "execution_count": null,
   "metadata": {},
   "outputs": [],
   "source": []
  },
  {
   "cell_type": "code",
   "execution_count": null,
   "metadata": {},
   "outputs": [],
   "source": []
  },
  {
   "cell_type": "code",
   "execution_count": 41,
   "metadata": {},
   "outputs": [],
   "source": [
    "class Unemployment():\n",
    "    \n",
    "    def __init__(self, State, Filed_Week, Initial_Claims, Reflecting_Week_End, Continued_Claims, Covered_Employment, Insured_Unemployment_Rate):\n",
    "        self.State = State\n",
    "        self.Filed_Week = Filed_Week\n",
    "        self.Initial_Claims = Initial_Claims\n",
    "        self.Reflecting_Week_End = Reflecting_Week_End\n",
    "        self.Continued_Claims = Continued_Claims\n",
    "        self.Covered_Employment = Covered_Employment\n",
    "        self.Insured_Unemployment_Rate = Insured_Unemployment_Rate"
   ]
  }
 ],
 "metadata": {
  "kernel_info": {
   "name": "python3"
  },
  "kernelspec": {
   "display_name": "Python 3",
   "language": "python",
   "name": "python3"
  },
  "language_info": {
   "codemirror_mode": {
    "name": "ipython",
    "version": 3
   },
   "file_extension": ".py",
   "mimetype": "text/x-python",
   "name": "python",
   "nbconvert_exporter": "python",
   "pygments_lexer": "ipython3",
   "version": "3.7.6"
  },
  "nteract": {
   "version": "0.12.3"
  },
  "varInspector": {
   "cols": {
    "lenName": 16,
    "lenType": 16,
    "lenVar": 40
   },
   "kernels_config": {
    "python": {
     "delete_cmd_postfix": "",
     "delete_cmd_prefix": "del ",
     "library": "var_list.py",
     "varRefreshCmd": "print(var_dic_list())"
    },
    "r": {
     "delete_cmd_postfix": ") ",
     "delete_cmd_prefix": "rm(",
     "library": "var_list.r",
     "varRefreshCmd": "cat(var_dic_list()) "
    }
   },
   "types_to_exclude": [
    "module",
    "function",
    "builtin_function_or_method",
    "instance",
    "_Feature"
   ],
   "window_display": false
  }
 },
 "nbformat": 4,
 "nbformat_minor": 2
}
